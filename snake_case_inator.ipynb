{
 "cells": [
  {
   "cell_type": "markdown",
   "metadata": {},
   "source": [
    "# Snake Case intator"
   ]
  },
  {
   "cell_type": "code",
   "execution_count": null,
   "metadata": {},
   "outputs": [],
   "source": [
    "#Base Algorithm \n",
    "\n",
    "new_col_names = []\n",
    "\n",
    "for old_name in data_set_name.columns:\n",
    "    name_stripped = old_name.strip()\n",
    "    name_lowered = name_stripped.lower()\n",
    "    name_no_spaces = name_lowered.replace(\" \",\"_\")\n",
    "    new_col_names.append(name_no_spaces)\n",
    "\n",
    "data_set_name.columns = new_col_names\n",
    "\n",
    "\n"
   ]
  },
  {
   "cell_type": "code",
   "execution_count": 13,
   "metadata": {},
   "outputs": [
    {
     "name": "stdout",
     "output_type": "stream",
     "text": [
      "Index(['sales_person', 'total_sales', 'units_sold', 'region',\n",
      "       'revenue_in_usd'],\n",
      "      dtype='object')\n"
     ]
    }
   ],
   "source": [
    "#Example case \n",
    "\n",
    "import pandas as pd\n",
    "\n",
    "# Crear un DataFrame para representar el reporte de ventas\n",
    "data = {\n",
    "    ' Sales person   ': ['John Doe', 'Jane Smith', 'Alice Johnson'],\n",
    "    ' Total SALES': [3000, 1500, 4000],\n",
    "    'Units Sold ': [50, 25, 60],\n",
    "    'Region': ['North', 'South', 'East'],\n",
    "    ' Revenue in USD': [100000, 50000, 120000]\n",
    "}\n",
    "\n",
    "# Crear el DataFrame\n",
    "df = pd.DataFrame(data)\n",
    "\n",
    "new_col_names = []\n",
    "\n",
    "for old_name in df.columns:\n",
    "    name_stripped = old_name.strip()\n",
    "    name_lowered = name_stripped.lower()\n",
    "    name_no_spaces = name_lowered.replace(\" \",\"_\")\n",
    "    new_col_names.append(name_no_spaces)\n",
    "\n",
    "df.columns = new_col_names\n",
    "\n",
    "\n",
    "print(df.columns)"
   ]
  },
  {
   "cell_type": "markdown",
   "metadata": {},
   "source": [
    "The output is \n",
    "\n",
    "Index(['sales_person', 'total_sales', 'units_sold', 'region', 'revenue_in_usd'], dtype='object')\n",
    "\n",
    "All Columns are now in snake case"
   ]
  },
  {
   "cell_type": "markdown",
   "metadata": {},
   "source": []
  }
 ],
 "metadata": {
  "kernelspec": {
   "display_name": "base",
   "language": "python",
   "name": "python3"
  },
  "language_info": {
   "codemirror_mode": {
    "name": "ipython",
    "version": 3
   },
   "file_extension": ".py",
   "mimetype": "text/x-python",
   "name": "python",
   "nbconvert_exporter": "python",
   "pygments_lexer": "ipython3",
   "version": "3.8.20"
  }
 },
 "nbformat": 4,
 "nbformat_minor": 2
}
